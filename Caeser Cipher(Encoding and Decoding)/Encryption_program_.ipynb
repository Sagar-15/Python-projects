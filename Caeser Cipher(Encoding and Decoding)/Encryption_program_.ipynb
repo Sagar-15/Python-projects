{
  "nbformat": 4,
  "nbformat_minor": 0,
  "metadata": {
    "colab": {
      "provenance": []
    },
    "kernelspec": {
      "name": "python3",
      "display_name": "Python 3"
    },
    "language_info": {
      "name": "python"
    }
  },
  "cells": [
    {
      "cell_type": "code",
      "execution_count": 9,
      "metadata": {
        "colab": {
          "base_uri": "https://localhost:8080/"
        },
        "id": "PVKnRLgdlKwV",
        "outputId": "35b22f71-be35-4f85-b511-a27c089c0fe2"
      },
      "outputs": [
        {
          "output_type": "stream",
          "name": "stdout",
          "text": [
            "Chars :  [' ', '!', '\"', '#', '$', '%', '&', \"'\", '(', ')', '*', '+', ',', '-', '.', '/', ':', ';', '<', '=', '>', '?', '@', '[', '\\\\', ']', '^', '_', '`', '{', '|', '}', '~', '0', '1', '2', '3', '4', '5', '6', '7', '8', '9', 'a', 'b', 'c', 'd', 'e', 'f', 'g', 'h', 'i', 'j', 'k', 'l', 'm', 'n', 'o', 'p', 'q', 'r', 's', 't', 'u', 'v', 'w', 'x', 'y', 'z', 'A', 'B', 'C', 'D', 'E', 'F', 'G', 'H', 'I', 'J', 'K', 'L', 'M', 'N', 'O', 'P', 'Q', 'R', 'S', 'T', 'U', 'V', 'W', 'X', 'Y', 'Z']\n",
            "Keys :  ['f', '^', '$', 'y', 'D', 'F', ')', '/', 'g', \"'\", ';', ':', 'o', '{', 'G', ']', 'I', 'l', 'b', 'A', ' ', 'Q', 'K', '2', '9', 'w', '(', '7', 's', 'U', '&', '_', '+', 'k', 'N', 'V', '5', 'E', '}', '>', '=', 'P', 'L', '|', 'J', 'i', 'x', '8', '[', '-', 'Z', 'r', '\\\\', 'q', 'p', '%', '`', 'd', '.', 'm', '4', 'W', '*', 'j', '\"', 'Y', 't', '@', 'n', '?', 'c', 'S', 'v', 'O', 'h', 'z', ',', '3', '!', 'a', '1', 'X', '#', 'H', 'e', '~', '<', 'R', '0', 'T', '6', 'M', 'u', 'C', 'B']\n",
            "Enter a message to encrypt : I Love You\n",
            "The Original msg is :  I Love You\n",
            "The Encrypted msg is :  3f1d\"8fCdj\n",
            "Enter a message to decrypt : 3f1d\"8fCdj\n",
            "The Encrypted msg is :  3f1d\"8fCdj\n",
            "The Original msg is :  I Love You\n"
          ]
        }
      ],
      "source": [
        "import random\n",
        "import string\n",
        "\n",
        "x =\" \" + string.punctuation + string.digits + string.ascii_letters\n",
        "x = list(x)\n",
        "key = x.copy()\n",
        "\n",
        "random.shuffle(key)\n",
        "\n",
        "print(\"Chars : \",x)\n",
        "print(\"Keys : \",key)\n",
        "\n",
        "#ENCRYPTION\n",
        "\n",
        "plain_text = input(\"Enter a message to encrypt : \")\n",
        "cipher_text = \"\"\n",
        "\n",
        "for i in plain_text:\n",
        "  index = x.index(i)\n",
        "  cipher_text += key[index]\n",
        "\n",
        "print(\"The Original msg is : \",plain_text)\n",
        "print(\"The Encrypted msg is : \",cipher_text)\n",
        "\n",
        "#DECRYPTION\n",
        "\n",
        "cipher_text = input(\"Enter a message to decrypt : \")\n",
        "plain_text = \"\"\n",
        "\n",
        "for i in cipher_text:\n",
        "  index = key.index(i)\n",
        "  plain_text += x[index]\n",
        "\n",
        "print(\"The Encrypted msg is : \",cipher_text)\n",
        "print(\"The Original msg is : \",plain_text)\n"
      ]
    },
    {
      "cell_type": "code",
      "source": [],
      "metadata": {
        "id": "jmlkJWXilmgZ"
      },
      "execution_count": null,
      "outputs": []
    }
  ]
}