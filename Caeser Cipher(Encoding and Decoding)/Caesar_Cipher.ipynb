{
  "nbformat": 4,
  "nbformat_minor": 0,
  "metadata": {
    "colab": {
      "provenance": []
    },
    "kernelspec": {
      "name": "python3",
      "display_name": "Python 3"
    },
    "language_info": {
      "name": "python"
    }
  },
  "cells": [
    {
      "cell_type": "code",
      "execution_count": 1,
      "metadata": {
        "colab": {
          "base_uri": "https://localhost:8080/"
        },
        "id": "ry58fqglnoaZ",
        "outputId": "9cd58bbe-e8e4-4275-8f6b-83be47194ff4"
      },
      "outputs": [
        {
          "output_type": "stream",
          "name": "stdout",
          "text": [
            "EADGT UGEWTKVA.\n",
            "CYBER SECURITY.\n"
          ]
        }
      ],
      "source": [
        "\"\"\"\n",
        "Caesar cipher\n",
        "Implement a Caesar cipher, both encoding and decoding. The key is an integer\n",
        "from 1 to 25. This cipher rotates the letters of the alphabet (A to Z). The\n",
        "encoding replaces each letter with the 1st to 25th next letter in the alphabet\n",
        "(wrapping Z to A). So key 2 encrypts \"HI\" to \"JK\", but key 20 encrypts \"HI\" to\n",
        "\"BC\". This simple \"monoalphabetic substitution cipher\" provides almost no\n",
        "security, because an attacker who has the encoded message can either use\n",
        "frequency analysis to guess the key, or just try all 25 keys.\n",
        "\"\"\"\n",
        "\n",
        "\n",
        "\n",
        "\n",
        "class Caesar():\n",
        "\n",
        "    def __init__(self):\n",
        "        self.LETTERS = 'ABCDEFGHIJKLMNOPQRSTUVWXYZ'\n",
        "        self.translated = ''\n",
        "\n",
        "    def __crypt(self, mode):\n",
        "        for symbol in self.message.upper():\n",
        "            if symbol in self.LETTERS:\n",
        "                num = self.LETTERS.find(symbol)\n",
        "                if mode == 'encrypt':\n",
        "                    num = num + self.key\n",
        "                elif mode == 'decrypt':\n",
        "                    num = num - self.key\n",
        "\n",
        "                if num >= len(self.LETTERS):\n",
        "                    num = num - len(self.LETTERS)\n",
        "                elif num < 0:\n",
        "                    num = num + len(self.LETTERS)\n",
        "\n",
        "                self.translated = self.translated + self.LETTERS[num]\n",
        "            else:\n",
        "                self.translated = self.translated + symbol\n",
        "\n",
        "        return self.translated\n",
        "\n",
        "    def encrypt(self, message, key=0):\n",
        "        self.translated = ''\n",
        "        self.key = key\n",
        "        self.message = message\n",
        "        return self.__crypt('encrypt')\n",
        "\n",
        "    def decrypt(self, message, key=0):\n",
        "        self.translated = ''\n",
        "        self.key = key\n",
        "        self.message = message\n",
        "        return self.__crypt('decrypt')\n",
        "\n",
        "if __name__ == '__main__':\n",
        "    cipher = Caesar()\n",
        "    print(cipher.encrypt(message='Cyber security.', key=2))\n",
        "    print(cipher.decrypt(message='EADGT UGEWTKVA.', key=2))"
      ]
    },
    {
      "cell_type": "code",
      "source": [],
      "metadata": {
        "id": "fEiehw9jnpZZ"
      },
      "execution_count": null,
      "outputs": []
    }
  ]
}