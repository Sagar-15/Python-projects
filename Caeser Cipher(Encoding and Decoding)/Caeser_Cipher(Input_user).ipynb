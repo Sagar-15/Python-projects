{
  "nbformat": 4,
  "nbformat_minor": 0,
  "metadata": {
    "colab": {
      "provenance": []
    },
    "kernelspec": {
      "name": "python3",
      "display_name": "Python 3"
    },
    "language_info": {
      "name": "python"
    }
  },
  "cells": [
    {
      "cell_type": "code",
      "source": [
        "\"\"\"\n",
        "   This python program is used to implement encryption and decryption of given text using\n",
        "   Caesar cipher algorithm\n",
        "\"\"\"\n",
        "VALID_STRING = 'abcdefghijklmnopqrstuvwxyz'\n",
        "\n",
        "def encrypt(text, key):\n",
        "    # used to encrypt a given input text\n",
        "    encrypt_string = 'abcdefghijklmnopqrstuvwxyz' * 2\n",
        "    output = ''\n",
        "    for char in text:\n",
        "        if char in VALID_STRING:\n",
        "            index = encrypt_string.index(str(char))\n",
        "            output += encrypt_string[index + int(key)]\n",
        "        else:\n",
        "            output += char\n",
        "    return output\n",
        "\n",
        "def decrypt(text, key):\n",
        "    # used to decrypt a given encrypted text\n",
        "    decrypt_string = 'zyxwvutsrqponmlkjihgfedcba' * 2\n",
        "    output = ''\n",
        "    for char in text:\n",
        "        if char in VALID_STRING:\n",
        "            index = decrypt_string.index(str(char))\n",
        "            output += decrypt_string[index + int(key)]\n",
        "        else:\n",
        "            output += char\n",
        "    return output\n",
        "\n",
        "if __name__ == '__main__':\n",
        "    print(\"1. Press 1 to Encrypt text\")\n",
        "    print(\"2. Press 2 to Decrypt text\")\n",
        "    print(\"3. Press 3 to do both\")\n",
        "    \n",
        "    choice = int(input('Enter a choice: '))\n",
        "        \n",
        "    if choice == 1:\n",
        "        input_txt = input('Enter the text to encrypt:')\n",
        "        key = input('Enter Key between 1 to 25 :')\n",
        "        print(\"The encrypted text is : \")\n",
        "        print(encrypt(input_txt, key))\n",
        "        \n",
        "    elif choice == 2:\n",
        "        input_txt = input('Enter the text to decrypt:')\n",
        "        key = input('Enter Key between 1 to 25 :')\n",
        "        print(\"The decrypted text is : \")\n",
        "        print(decrypt(input_txt, key))\n",
        "\n",
        "    elif choice == 3:\n",
        "        input_txt = input('Enter the text:')\n",
        "        key = input('Enter Key between 1 to 25 :')\n",
        "        encrypted_text = encrypt(input_txt, key)\n",
        "        decrypted_text = decrypt(encrypted_text, key)\n",
        "        print(\"The encrypted text is : \")\n",
        "        print(encrypted_text)\n",
        "        print(\"The decrypted text is : \")\n",
        "        print(decrypted_text)\n",
        "    else:\n",
        "        print('Invalid choice')\n"
      ],
      "metadata": {
        "id": "vgg_mP0SQU0l"
      },
      "execution_count": null,
      "outputs": []
    },
    {
      "cell_type": "code",
      "source": [],
      "metadata": {
        "id": "Ieg9L_MtsvRY"
      },
      "execution_count": null,
      "outputs": []
    }
  ]
}