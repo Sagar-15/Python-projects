{
  "nbformat": 4,
  "nbformat_minor": 0,
  "metadata": {
    "colab": {
      "provenance": []
    },
    "kernelspec": {
      "name": "python3",
      "display_name": "Python 3"
    },
    "language_info": {
      "name": "python"
    }
  },
  "cells": [
    {
      "cell_type": "code",
      "execution_count": null,
      "metadata": {
        "id": "dXB8TLUGeP4n"
      },
      "outputs": [],
      "source": [
        "cc = str(input(\"Enter a credit card number to validate (Mastercard, Visa, Discover, Amex only): \"))\n",
        "\n",
        "def val_cc(number):\n",
        "  cc_rev = number[::-1]\n",
        "  total = 0\n",
        "  for i in cc_rev[1::2]:\n",
        "    x = int(i)*2\n",
        "    if len(str(x)) == 2:\n",
        "      for a in str(x):\n",
        "        total += int(a)\n",
        "    else:\n",
        "  \t\t total += int(x)\n",
        "         \n",
        "  for i in cc_rev[::2]:\n",
        "    total += int(i)\n",
        "    return total\n",
        "  \n",
        "if (int(cc[:2]) >= 51 and int(cc[:2]) <= 55 and len(cc) == 16) or (int(cc[0]) == 4 and (len(cc) == 13 or len(cc) == 16)) or ((int(cc[:2]) == 34 or int(cc[:2]) == 37) and len(cc) == 15) or (int(cc[:4]) == 6011 and len(cc) == 16):\n",
        "   if val_cc(cc) % 10 == 0:\n",
        "\t    print(\"%s is a valid credit card number\" % cc)\n",
        "   else:\n",
        "\t    print(\"%s is NOT a valid credit card number\" % cc)\n",
        "else:\n",
        "\t    print(\"%s is NOT a valid credit card number\" % cc)\n",
        "\n"
      ]
    }
  ]
}