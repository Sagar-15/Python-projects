{
  "nbformat": 4,
  "nbformat_minor": 0,
  "metadata": {
    "colab": {
      "provenance": []
    },
    "kernelspec": {
      "name": "python3",
      "display_name": "Python 3"
    },
    "language_info": {
      "name": "python"
    }
  },
  "cells": [
    {
      "cell_type": "code",
      "execution_count": null,
      "metadata": {
        "id": "z9xtCgKbjCJo"
      },
      "outputs": [],
      "source": [
        "\"\"\"Distance Between Two Cities -\n",
        "Calculates the distance between two cities and allows the user to specify a\n",
        "unit of distance. This program may require finding coordinates for the cities\n",
        "like latitude and longitude.\"\"\"\n",
        "\n",
        "from math import *\n",
        "from decimal import *\n",
        "from geopy.geocoders import Nominatim\n",
        "geolocator = Nominatim()\n",
        "\n",
        "R = {\n",
        "    'mi': 3961,\n",
        "    'km': 6373\n",
        "}\n",
        "\n",
        "\n",
        "city1 = {\n",
        "    'name': input(\"City 1: \")\n",
        "}\n",
        "\n",
        "city2 = {\n",
        "    'name': input(\"City 2: \")   \n",
        "}\n",
        "\n",
        "while True:\n",
        "    unit = input(\"Unit (km, mi): \")\n",
        "    if (unit == \"km\" or unit == \"mi\"):\n",
        "        break\n",
        "\n",
        "city1[\"location\"] = geolocator.geocode(city1.get('name'))\n",
        "city2[\"location\"] = geolocator.geocode(city2.get('name'))\n",
        "city1[\"lat\"] = city1.get('location').latitude\n",
        "city1[\"long\"] = city1.get('location').longitude\n",
        "city2[\"lat\"] = city2.get('location').latitude\n",
        "city2[\"long\"] = city2.get('location').longitude\n",
        "\n",
        "dlon = radians(city2.get('long')) - radians(city1.get('long'))\n",
        "dlat = radians(city2.get('lat')) - radians(city1.get('lat'))\n",
        "\n",
        "a = (sin(dlat/2))**2 + cos(radians(city1.get('lat'))) * cos(radians(city2.get('lat'))) * (sin(dlon/2))**2\n",
        "c = 2 * atan2(sqrt(a), sqrt(1-a))\n",
        "d = R.get(unit) * c\n",
        "\n",
        "print(\"%f %s between %s and %s\" % (d, unit, city1.get('name'), city2.get('name')))\n"
      ]
    }
  ]
}