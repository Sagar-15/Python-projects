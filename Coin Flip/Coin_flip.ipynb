{
  "nbformat": 4,
  "nbformat_minor": 0,
  "metadata": {
    "colab": {
      "provenance": []
    },
    "kernelspec": {
      "name": "python3",
      "display_name": "Python 3"
    },
    "language_info": {
      "name": "python"
    }
  },
  "cells": [
    {
      "cell_type": "code",
      "execution_count": null,
      "metadata": {
        "id": "uYou0IrYfLDR"
      },
      "outputs": [],
      "source": [
        "\"\"\"Coin Flip Simulation - \n",
        "Write some code that simulates flipping a single coin however many times the\n",
        "user decides. The code should record the outcomes and count the number of tails\n",
        "and heads.\"\"\"\n",
        "from random import *\n",
        "\n",
        "outcomes = []\n",
        "\n",
        "flips = int(input(\"Number of coin flips to simulate? \"))\n",
        "\n",
        "while flips > 0:\n",
        "    result = randint(1,2)\n",
        "    outcomes.append(result)\n",
        "    flips -= 1\n",
        "\n",
        "print(\"Heads: %d\" % outcomes.count(1))\n",
        "print(\"Tails: %d\" % outcomes.count(2))"
      ]
    }
  ]
}