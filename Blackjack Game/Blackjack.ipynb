{
  "nbformat": 4,
  "nbformat_minor": 0,
  "metadata": {
    "colab": {
      "provenance": []
    },
    "kernelspec": {
      "name": "python3",
      "display_name": "Python 3"
    },
    "language_info": {
      "name": "python"
    }
  },
  "cells": [
    {
      "cell_type": "markdown",
      "source": [
        "**Game Play**\n",
        "\n",
        "To play a hand of Blackjack the following steps must be followed:\n",
        "\n",
        "1.Create a deck of 52 cards\n",
        "2.Shuffle the deck\n",
        "3.Ask the Player for their bet\n",
        "4.Make sure that the Player's bet does not exceed their available chips\n",
        "5.Deal two cards to the Dealer and two cards to the Player\n",
        "6.Show only one of the Dealer's cards, the other remains hidden\n",
        "7.Show both of the Player's cards\n",
        "8.Ask the Player if they wish to Hit, and take another card\n",
        "9.If the Player's hand doesn't Bust (go over 21), ask if they'd like to Hit again.\n",
        "10.If a Player Stands, play the Dealer's hand. The dealer will always Hit until the Dealer's value meets or exceeds 17\n",
        "11.Determine the winner and adjust the Player's chips accordingly\n",
        "12.Ask the Player if they'd like to play again\n",
        "\n",
        "\n",
        "**Playing Cards**\n",
        "\n",
        "A standard deck of playing cards has four suits (Hearts, Diamonds, Spades and Clubs) and thirteen ranks (2 through 10, then the face cards Jack, Queen, King and Ace) for a total of 52 cards per deck. Jacks, Queens and Kings all have a rank of 10. Aces have a rank of either 11 or 1 as needed to reach 21 without busting. As a starting point in your program, you may want to assign variables to store a list of suits, ranks, and then use a dictionary to map ranks to values."
      ],
      "metadata": {
        "id": "YQio8KGvYHwk"
      }
    },
    {
      "cell_type": "code",
      "execution_count": 18,
      "metadata": {
        "id": "jNCDSvN_UsOi"
      },
      "outputs": [],
      "source": [
        "# Step 1: Import the random module\n",
        "\n",
        "import random\n",
        "\n",
        "suits = ('Hearts', 'Diamonds', 'Spades', 'Clubs')\n",
        "ranks = ('Two', 'Three', 'Four', 'Five', 'Six', 'Seven', 'Eight', 'Nine', 'Ten', 'Jack', 'Queen', 'King', 'Ace')\n",
        "values = {'Two':2, 'Three':3, 'Four':4, 'Five':5, 'Six':6, 'Seven':7, 'Eight':8, 'Nine':9, 'Ten':10, 'Jack':10,\n",
        "         'Queen':10, 'King':10, 'Ace':11}\n",
        "\n",
        "playing = True"
      ]
    },
    {
      "cell_type": "code",
      "source": [
        "# Step 2: Create a Card Class\n",
        "\n",
        "class Card:\n",
        "\n",
        "    def __init__(self,suit,rank):\n",
        "        self.suit = suit\n",
        "        self.rank = rank\n",
        "        \n",
        "    def __str__(self):\n",
        "        return self.rank + ' of ' + self.suit"
      ],
      "metadata": {
        "id": "L4jGBmJQU3Aq"
      },
      "execution_count": 19,
      "outputs": []
    },
    {
      "cell_type": "code",
      "source": [
        "# Step 3: Create a Deck Class\n",
        "\n",
        "class Deck:\n",
        "    \n",
        "    def __init__(self):\n",
        "        self.deck = []  # start with an empty list\n",
        "        for suit in suits:\n",
        "            for rank in ranks:\n",
        "                self.deck.append(Card(suit,rank))  # build Card objects and add them to the list\n",
        "    \n",
        "    def __str__(self):\n",
        "        deck_comp = ''  # start with an empty string\n",
        "        for card in self.deck:\n",
        "            deck_comp += '\\n '+card.__str__() # add each Card object's print string\n",
        "        return 'The deck has:' + deck_comp\n",
        "\n",
        "    def shuffle(self):\n",
        "        random.shuffle(self.deck)\n",
        "        \n",
        "    def deal(self):\n",
        "        single_card = self.deck.pop()\n",
        "        return single_card"
      ],
      "metadata": {
        "id": "UdoPRhasU7cZ"
      },
      "execution_count": 20,
      "outputs": []
    },
    {
      "cell_type": "code",
      "source": [
        "#  TESTING\n",
        "\n",
        "test_deck = Deck()\n",
        "print(test_deck)"
      ],
      "metadata": {
        "id": "jOqeG0uBU_hj"
      },
      "execution_count": null,
      "outputs": []
    },
    {
      "cell_type": "code",
      "source": [
        "# Step 4: Create a Hand Class\n",
        "\n",
        "class Hand:\n",
        "    def __init__(self):\n",
        "        self.cards = []  # start with an empty list as we did in the Deck class\n",
        "        self.value = 0   # start with zero value\n",
        "        self.aces = 0    # add an attribute to keep track of aces\n",
        "    \n",
        "    def add_card(self,card):\n",
        "        self.cards.append(card)\n",
        "        self.value += values[card.rank]\n",
        "    \n",
        "    def adjust_for_ace(self):\n",
        "        pass"
      ],
      "metadata": {
        "id": "0dF5ey2oVDvB"
      },
      "execution_count": 21,
      "outputs": []
    },
    {
      "cell_type": "code",
      "source": [
        "# TESTING\n",
        "\n",
        "test_deck = Deck()\n",
        "test_deck.shuffle()\n",
        "test_player = Hand()\n",
        "test_player.add_card(test_deck.deal())\n",
        "test_player.add_card(test_deck.deal())\n",
        "test_player.value"
      ],
      "metadata": {
        "colab": {
          "base_uri": "https://localhost:8080/"
        },
        "id": "wAy46IOpVHG6",
        "outputId": "8e4c93fd-13a3-40be-d547-fc6d4c6a44d9"
      },
      "execution_count": 6,
      "outputs": [
        {
          "output_type": "execute_result",
          "data": {
            "text/plain": [
              "12"
            ]
          },
          "metadata": {},
          "execution_count": 6
        }
      ]
    },
    {
      "cell_type": "code",
      "source": [
        "for card in test_player.cards:\n",
        "    print(card)\n"
      ],
      "metadata": {
        "colab": {
          "base_uri": "https://localhost:8080/"
        },
        "id": "Slgu90BnVJd4",
        "outputId": "63a62a51-fd2a-4777-8cf6-b2b30caaebb5"
      },
      "execution_count": 7,
      "outputs": [
        {
          "output_type": "stream",
          "name": "stdout",
          "text": [
            "Ten of Hearts\n",
            "Two of Hearts\n"
          ]
        }
      ]
    },
    {
      "cell_type": "code",
      "source": [
        "class Hand:\n",
        "    \n",
        "    def __init__(self):\n",
        "        self.cards = []  # start with an empty list as we did in the Deck class\n",
        "        self.value = 0   # start with zero value\n",
        "        self.aces = 0    # add an attribute to keep track of aces\n",
        "    \n",
        "    def add_card(self,card):\n",
        "        self.cards.append(card)\n",
        "        self.value += values[card.rank]\n",
        "        if card.rank == 'Ace':\n",
        "            self.aces += 1  # add to self.aces\n",
        "    \n",
        "    def adjust_for_ace(self):\n",
        "        while self.value > 21 and self.aces:\n",
        "            self.value -= 10\n",
        "            self.aces -= 1 "
      ],
      "metadata": {
        "id": "DxeBhU3bVLxN"
      },
      "execution_count": 8,
      "outputs": []
    },
    {
      "cell_type": "code",
      "source": [
        "# Step 5: Create a Chips Class\n",
        "\n",
        "class Chips:\n",
        "    \n",
        "    def __init__(self):\n",
        "        self.total = 100  # This can be set to a default value or supplied by a user input\n",
        "        self.bet = 0\n",
        "        \n",
        "    def win_bet(self):\n",
        "        self.total += self.bet\n",
        "    \n",
        "    def lose_bet(self):\n",
        "        self.total -= self.bet"
      ],
      "metadata": {
        "id": "vf6WvgfyVOMy"
      },
      "execution_count": 22,
      "outputs": []
    },
    {
      "cell_type": "code",
      "source": [
        "# Step 6: Write a function for taking bets\n",
        "\n",
        "def take_bet(chips):\n",
        "    \n",
        "    while True:\n",
        "        try:\n",
        "            chips.bet = int(input('How many chips would you like to bet? '))\n",
        "        except ValueError:\n",
        "            print('Sorry, a bet must be an integer!')\n",
        "        else:\n",
        "            if chips.bet > chips.total:\n",
        "                print(\"Sorry, your bet can't exceed\",chips.total)\n",
        "            else:\n",
        "                break"
      ],
      "metadata": {
        "id": "0v6orRcrVRBU"
      },
      "execution_count": 23,
      "outputs": []
    },
    {
      "cell_type": "code",
      "source": [
        "# Step 7: Write a function for taking hits\n",
        "\n",
        "def hit(deck,hand):\n",
        "    \n",
        "    hand.add_card(deck.deal())\n",
        "    hand.adjust_for_ace()"
      ],
      "metadata": {
        "id": "F4vSuHoCVUsO"
      },
      "execution_count": 24,
      "outputs": []
    },
    {
      "cell_type": "code",
      "source": [
        "# Step 8: Write a function prompting the Player to Hit or Stand\n",
        "\n",
        "def hit_or_stand(deck,hand):\n",
        "    global playing  # to control an upcoming while loop\n",
        "    \n",
        "    while True:\n",
        "        x = input(\"Would you like to Hit or Stand? Enter 'h' or 's' \")\n",
        "        \n",
        "        if x[0].lower() == 'h':\n",
        "            hit(deck,hand)  # hit() function defined above\n",
        "\n",
        "        elif x[0].lower() == 's':\n",
        "            print(\"Player stands. Dealer is playing.\")\n",
        "            playing = False\n",
        "\n",
        "        else:\n",
        "            print(\"Sorry, please try again.\")\n",
        "            continue\n",
        "        break"
      ],
      "metadata": {
        "id": "LyFf3exjVXzc"
      },
      "execution_count": 25,
      "outputs": []
    },
    {
      "cell_type": "code",
      "source": [
        "# Step 9: Write functions to display cards\n",
        "\n",
        "def show_some(player,dealer):\n",
        "    print(\"\\nDealer's Hand:\")\n",
        "    print(\" <card hidden>\")\n",
        "    print('',dealer.cards[1])  \n",
        "    print(\"\\nPlayer's Hand:\", *player.cards, sep='\\n ')\n",
        "    \n",
        "def show_all(player,dealer):\n",
        "    print(\"\\nDealer's Hand:\", *dealer.cards, sep='\\n ')\n",
        "    print(\"Dealer's Hand =\",dealer.value)\n",
        "    print(\"\\nPlayer's Hand:\", *player.cards, sep='\\n ')\n",
        "    print(\"Player's Hand =\",player.value)"
      ],
      "metadata": {
        "id": "_34JTD2IVaCX"
      },
      "execution_count": 26,
      "outputs": []
    },
    {
      "cell_type": "code",
      "source": [
        "# Step 10: Write functions to handle end of game scenarios\n",
        "\n",
        "def player_busts(player,dealer,chips):\n",
        "    print(\"Player busts!\")\n",
        "    chips.lose_bet()\n",
        "\n",
        "def player_wins(player,dealer,chips):\n",
        "    print(\"Player wins!\")\n",
        "    chips.win_bet()\n",
        "\n",
        "def dealer_busts(player,dealer,chips):\n",
        "    print(\"Dealer busts!\")\n",
        "    chips.win_bet()\n",
        "    \n",
        "def dealer_wins(player,dealer,chips):\n",
        "    print(\"Dealer wins!\")\n",
        "    chips.lose_bet()\n",
        "    \n",
        "def push(player,dealer):\n",
        "    print(\"Dealer and Player tie! It's a push.\")"
      ],
      "metadata": {
        "id": "nATOwgGIVd5E"
      },
      "execution_count": 27,
      "outputs": []
    },
    {
      "cell_type": "code",
      "source": [
        "while True:\n",
        "    # Print an opening statement\n",
        "    print('Welcome to BlackJack! Get as close to 21 as you can without going over!\\n\\\n",
        "    Dealer hits until she reaches 17. Aces count as 1 or 11.')\n",
        "    \n",
        "    # Create & shuffle the deck, deal two cards to each player\n",
        "    deck = Deck()\n",
        "    deck.shuffle()\n",
        "    \n",
        "    player_hand = Hand()\n",
        "    player_hand.add_card(deck.deal())\n",
        "    player_hand.add_card(deck.deal())\n",
        "    \n",
        "    dealer_hand = Hand()\n",
        "    dealer_hand.add_card(deck.deal())\n",
        "    dealer_hand.add_card(deck.deal())\n",
        "            \n",
        "    # Set up the Player's chips\n",
        "    player_chips = Chips()  # remember the default value is 100    \n",
        "    \n",
        "    # Prompt the Player for their bet\n",
        "    take_bet(player_chips)\n",
        "    \n",
        "    # Show cards (but keep one dealer card hidden)\n",
        "    show_some(player_hand,dealer_hand)\n",
        "    \n",
        "    while playing:  # recall this variable from our hit_or_stand function\n",
        "        \n",
        "        # Prompt for Player to Hit or Stand\n",
        "        hit_or_stand(deck,player_hand) \n",
        "        \n",
        "        # Show cards (but keep one dealer card hidden)\n",
        "        show_some(player_hand,dealer_hand)  \n",
        "        if player_hand.value > 21:\n",
        "           player_busts(player_hand,dealer_hand,player_chips)\n",
        "           break        \n",
        "\n",
        "\n",
        "    # If Player hasn't busted, play Dealer's hand until Dealer reaches 17 \n",
        "    if player_hand.value <= 21:\n",
        "        \n",
        "        while dealer_hand.value < 17:\n",
        "            hit(deck,dealer_hand)    \n",
        "    \n",
        "        # Show all cards\n",
        "        show_all(player_hand,dealer_hand)\n",
        "        \n",
        "        # Run different winning scenarios\n",
        "        if dealer_hand.value > 21:\n",
        "            dealer_busts(player_hand,dealer_hand,player_chips)\n",
        "\n",
        "        elif dealer_hand.value > player_hand.value:\n",
        "            dealer_wins(player_hand,dealer_hand,player_chips)\n",
        "\n",
        "        elif dealer_hand.value < player_hand.value:\n",
        "            player_wins(player_hand,dealer_hand,player_chips)\n",
        "\n",
        "        else:\n",
        "            push(player_hand,dealer_hand)        \n",
        "    \n",
        "    # Inform Player of their chips total \n",
        "    print(\"\\nPlayer's winnings stand at\",player_chips.total)\n",
        "    \n",
        "    # Ask to play again\n",
        "    new_game = input(\"Would you like to play another hand? Enter 'y' or 'n' \")\n",
        "    \n",
        "    if new_game[0].lower()=='y':\n",
        "        playing=True\n",
        "        continue\n",
        "    else:\n",
        "        print(\"Thanks for playing!\")\n",
        "        break"
      ],
      "metadata": {
        "id": "uhGiKUfeVh-4"
      },
      "execution_count": null,
      "outputs": []
    },
    {
      "cell_type": "code",
      "source": [],
      "metadata": {
        "id": "37H0ilRrV5Sx"
      },
      "execution_count": null,
      "outputs": []
    }
  ]
}