{
  "nbformat": 4,
  "nbformat_minor": 0,
  "metadata": {
    "colab": {
      "provenance": []
    },
    "kernelspec": {
      "name": "python3",
      "display_name": "Python 3"
    },
    "language_info": {
      "name": "python"
    }
  },
  "cells": [
    {
      "cell_type": "code",
      "execution_count": 13,
      "metadata": {
        "id": "ybEvgZEkVTaD"
      },
      "outputs": [],
      "source": [
        "\"\"\"Step 1: Write a function that can print out a board. Set up your board as a list, where each index 1-9 corresponds \n",
        "  with a number on a number pad, so you get a 3 by 3 board representation.\"\"\"\n",
        "\n",
        "from IPython.display import clear_output\n",
        "\n",
        "def display_board(board):\n",
        "  clear_output()\n",
        "  print(board[7]+\" | \"+board[8]+\" | \" + board[9])\n",
        "  print(\"--\" + \" --- \" + \"--\")\n",
        "  print(board[4]+\" | \"+board[5]+\" | \" + board[6])\n",
        "  print(\"--\" + \" --- \" + \"--\")\n",
        "  print(board[1]+\" | \"+board[2]+\" | \" + board[3])\n",
        "\n"
      ]
    },
    {
      "cell_type": "code",
      "source": [
        "# TESTING\n",
        "\n",
        "test_board = ['#','X','O','X','O','X','O','X','O','X']\n",
        "display_board(test_board)"
      ],
      "metadata": {
        "id": "sPG5mxptaGza"
      },
      "execution_count": null,
      "outputs": []
    },
    {
      "cell_type": "code",
      "source": [
        "\"\"\"Step 2: Write a function that can take in a player input and assign their marker as 'X' or 'O'. \n",
        "   Think about using while loops to continually ask until you get a correct answer.\"\"\"\n",
        "\n",
        "def player_input():\n",
        "  marker = \" \"\n",
        "  while marker not in [\"X\",\"O\"]:\n",
        "    marker = input(\"choose X or O : \").upper()\n",
        "    if marker not in [\"X\",\"O\"]:\n",
        "      print(\"Invalid Input\")\n",
        "  \n",
        "  if marker == \"X\":\n",
        "    return (\"X\",\"O\")\n",
        "  else:\n",
        "    return (\"O\",\"X\")\n"
      ],
      "metadata": {
        "id": "JW9Qf6TmXgY-"
      },
      "execution_count": 16,
      "outputs": []
    },
    {
      "cell_type": "code",
      "source": [
        "\"\"\" Step 3: Write a function that takes in the board list object, a marker ('X' or 'O'), \n",
        "  and a desired position (number 1-9) and assigns it to the board.\"\"\"\n",
        "\n",
        "def place_marker(board,mark,position):\n",
        "  board[position] = mark\n",
        "\n"
      ],
      "metadata": {
        "id": "apYI5N7rZf8h"
      },
      "execution_count": 17,
      "outputs": []
    },
    {
      "cell_type": "code",
      "source": [
        "\"\"\"Step 4: Write a function that takes in a board and checks to see if someone has won.\"\"\"\n",
        "\n",
        "def win_check(board,mark):\n",
        "  return ((board[7] == board[8] == board[9] == mark) or (board[4] == board[5] == board[6] == mark) or  (board[1] == board[2] == board[3] == mark) or\n",
        "         (board[7] == board[4] == board[1] == mark) or  (board[8] == board[5] == board[2] == mark) or  (board[9] == board[6] == board[3] == mark) or\n",
        "          (board[7] == board[5] == board[3] == mark) or  (board[9] == board[5] == board[1] == mark))\n",
        "  \n"
      ],
      "metadata": {
        "id": "EFb_mNCgcBuL"
      },
      "execution_count": 18,
      "outputs": []
    },
    {
      "cell_type": "code",
      "source": [
        "\"\"\"Step 5: Write a function that uses the random module to randomly decide which player goes first. \n",
        "You may want to lookup random.randint() Return a string of which player went first.\"\"\"\n",
        "\n",
        "import random \n",
        "\n",
        "def choose_first():\n",
        "  choose = random.randint(0,1)\n",
        "  if choose == 0:\n",
        "    return \"Player 1\"\n",
        "  else:\n",
        "    return \"Player 2\"\n",
        "\n",
        "\n"
      ],
      "metadata": {
        "id": "5LIslT_nfQ3S"
      },
      "execution_count": 19,
      "outputs": []
    },
    {
      "cell_type": "code",
      "source": [
        "\"\"\"Step 6: Write a function that returns a boolean indicating whether a space on the board is freely available.\"\"\"\n",
        "\n",
        "def space_check(board,position):\n",
        "  return board[position] == \" \"\n",
        "\n"
      ],
      "metadata": {
        "id": "zH1a-Ze0g5sq"
      },
      "execution_count": 20,
      "outputs": []
    },
    {
      "cell_type": "code",
      "source": [
        "\"\"\"Step 7: Write a function that checks if the board is full and returns a boolean value. True if full, False otherwise.\"\"\"\n",
        "\n",
        "def full_board_check(board):\n",
        "  for i in range(1,10):\n",
        "    if space_check(board,i):\n",
        "      return False\n",
        "  return True\n",
        "\n"
      ],
      "metadata": {
        "id": "kDRRfpYcjnQ3"
      },
      "execution_count": 21,
      "outputs": []
    },
    {
      "cell_type": "code",
      "source": [
        "\"\"\" Step 8: Write a function that asks for a player's next position (as a number 1-9) and then uses the \n",
        " function from step 6 to check if its a free position. If it is, then return the position for later use.\"\"\"\n",
        "\n",
        "def player_choice(board):\n",
        "  position = 0\n",
        "  while position not in [1,2,3,4,5,6,7,8,9] or not space_check(board,position):\n",
        "    position = int(input(\"Choose from 1 to 9 : \"))\n",
        "\n",
        "  return position\n",
        "\n"
      ],
      "metadata": {
        "id": "RVzWjxgvkeKW"
      },
      "execution_count": 22,
      "outputs": []
    },
    {
      "cell_type": "code",
      "source": [
        "\"\"\"Step 9: Write a function that asks the player if they want to play again and returns a boolean True if they do want to play again.\"\"\"\n",
        "\n",
        "def replay():\n",
        "  choice = input(\"Want to continue Yes or No : \")\n",
        "  return choice == \"Yes\"\n"
      ],
      "metadata": {
        "id": "tNujeQNam4gl"
      },
      "execution_count": 23,
      "outputs": []
    },
    {
      "cell_type": "code",
      "source": [
        "\"\"\"Step 10: Here comes the hard part! Use while loops and the functions you've made to run the game!\"\"\"\n",
        "\n",
        "print(\"WELCOME TO TIC TAC TOE \")\n",
        "\n",
        "while True:\n",
        "  test_board = [\" \"]*10\n",
        "  player1_marker , player2_marker = player_input()\n",
        "  Turn = choose_first()\n",
        "  print(Turn + \" Will go first.\")\n",
        "\n",
        "  play_game = input(\"Ready to Play Y or N : \").upper()\n",
        "  if play_game == \"Y\":\n",
        "    game_on = True\n",
        "  else:\n",
        "    game_on = False\n",
        "\n",
        "  while game_on:\n",
        "    if Turn == \"Player 1\":\n",
        "      display_board(test_board)\n",
        "      pos = player_choice(test_board)\n",
        "      place_marker(test_board,player1_marker,pos)\n",
        "      if win_check(test_board,player1_marker):\n",
        "        display_board(test_board)\n",
        "        print(\"player 1 : WON\")\n",
        "        game_on = False\n",
        "      else: \n",
        "        if full_board_check(test_board):\n",
        "          display_board(test_board)\n",
        "          print(\"TIE\")\n",
        "          game_on = False\n",
        "        else:\n",
        "          Turn = \"Player 2\"\n",
        "\n",
        "    else:\n",
        "      display_board(test_board)\n",
        "      pos = player_choice(test_board)\n",
        "      place_marker(test_board,player2_marker,pos)\n",
        "      if win_check(test_board,player2_marker):\n",
        "        display_board(test_board)\n",
        "        print(\"player 2 : WON\")\n",
        "        game_on = False\n",
        "      else: \n",
        "        if full_board_check(test_board):\n",
        "          display_board(test_board)\n",
        "          print(\"TIE\")\n",
        "          game_on = False\n",
        "        else:\n",
        "          Turn = \"Player 1\"\n",
        "    \n",
        "\n",
        "  if not replay():\n",
        "    break\n",
        "\n",
        "\n",
        "        \n",
        "\n",
        "\n",
        "\n",
        "\n"
      ],
      "metadata": {
        "id": "M437J0lNoN9L"
      },
      "execution_count": null,
      "outputs": []
    },
    {
      "cell_type": "code",
      "source": [],
      "metadata": {
        "id": "JndyGIUspjTu"
      },
      "execution_count": null,
      "outputs": []
    }
  ]
}